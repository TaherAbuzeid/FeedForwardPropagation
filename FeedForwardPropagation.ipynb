{
 "cells": [
  {
   "cell_type": "code",
   "execution_count": 1,
   "id": "c118a3c1",
   "metadata": {},
   "outputs": [],
   "source": [
    "import numpy as np\n",
    "from numpy.random import rand"
   ]
  },
  {
   "cell_type": "code",
   "execution_count": 2,
   "id": "5dcfa371",
   "metadata": {},
   "outputs": [],
   "source": [
    "x = np.array([[0.9,0.8],[0.6,0.3],[0.9,0.1],[0.9,0.8]])\n",
    "y = np.array([[0],[1],[1],[0]])"
   ]
  },
  {
   "attachments": {
    "perceptron%20%281%29.png": {
     "image/png": "[encoded data removed]"
    }
   },
   "cell_type": "markdown",
   "id": "e6b9660f",
   "metadata": {},
   "source": [
    "![perceptron%20%281%29.png](attachment:perceptron%20%281%29.png)"
   ]
  },
  {
   "cell_type": "code",
   "execution_count": 3,
   "id": "12ed6496",
   "metadata": {},
   "outputs": [],
   "source": [
    "def sigmoid(z):\n",
    "    # Sigmoid Funcation \n",
    "    return 1 / (1 + np.exp(z))\n",
    "\n",
    "# Multie_Layers feedforward nerual network (2 hidden layers)\n",
    "class NeuralNetwork:\n",
    "    def __init__(self, x, y, nodes_in_layer1 = 4, nodes_in_layer2 = 3, nodes_in_layer3 = 1):\n",
    "        # define features and label\n",
    "        self.inputs_in_layer0 = x\n",
    "        self.y = y\n",
    "        \n",
    "        # define number in each layers\n",
    "        self.nodes_in_layer1 = nodes_in_layer1\n",
    "        self.nodes_in_layer2 = nodes_in_layer2\n",
    "        self.nodes_in_layer3 = nodes_in_layer3\n",
    "        \n",
    "        # intialize the wieghts (theta) metrices\n",
    "        self.thetas_layer0 = np.random.rand(self.inputs_in_layer0.shape[1] + 1 , self.nodes_in_layer1) # shape(2+1,4)\n",
    "        self.thetas_layer1 = np.random.rand(self.nodes_in_layer1 + 1 , self.nodes_in_layer2) # shape(4+1, 3)\n",
    "        self.thetas_layer2 = np.random.rand(self.nodes_in_layer2 + 1 , self.nodes_in_layer3) # shape(3+1, 1)\n",
    "        \n",
    "    def feedforward(self):\n",
    "        #compute all the nodes (a1, a2, a3, a4) in layer1\n",
    "        self.Z1 = self.thetas_layer0[0] + np.dot(self.inputs_in_layer0,self.thetas_layer0[1:] )\n",
    "        self.layer1 = sigmoid(self.Z1) # values in layer1 \n",
    "        \n",
    "        #compute all the nodes (a1, a2, a3) in layer2\n",
    "        self.Z2 = self.thetas_layer1[0] + np.dot(self.layer1, self.thetas_layer1[1:])\n",
    "        self.layer2 = sigmoid(self.Z2)   # values in layer2 \n",
    "        \n",
    "        #compute all the nodes (a1, a2, a3, a4) in layer3\n",
    "        self.Z3 = self.thetas_layer2[0] + np.dot(self.layer2, self.thetas_layer2[1:])\n",
    "        self.layer3 = sigmoid(self.Z3) # values in layer3\n",
    "        \n",
    "        return self.layer3\n",
    "        "
   ]
  },
  {
   "cell_type": "code",
   "execution_count": 4,
   "id": "09f21f0c",
   "metadata": {},
   "outputs": [],
   "source": [
    "nn= NeuralNetwork(x,y)"
   ]
  },
  {
   "cell_type": "code",
   "execution_count": 5,
   "id": "d1ab1d6d",
   "metadata": {},
   "outputs": [
    {
     "data": {
      "text/plain": [
       "array([[0.3077271 ],\n",
       "       [0.30922369],\n",
       "       [0.30908299],\n",
       "       [0.3077271 ]])"
      ]
     },
     "execution_count": 5,
     "metadata": {},
     "output_type": "execute_result"
    }
   ],
   "source": [
    "nn.feedforward()"
   ]
  }
 ],
 "metadata": {
  "kernelspec": {
   "display_name": "Python 3 (ipykernel)",
   "language": "python",
   "name": "python3"
  },
  "language_info": {
   "codemirror_mode": {
    "name": "ipython",
    "version": 3
   },
   "file_extension": ".py",
   "mimetype": "text/x-python",
   "name": "python",
   "nbconvert_exporter": "python",
   "pygments_lexer": "ipython3",
   "version": "3.9.7"
  }
 },
 "nbformat": 4,
 "nbformat_minor": 5
}
